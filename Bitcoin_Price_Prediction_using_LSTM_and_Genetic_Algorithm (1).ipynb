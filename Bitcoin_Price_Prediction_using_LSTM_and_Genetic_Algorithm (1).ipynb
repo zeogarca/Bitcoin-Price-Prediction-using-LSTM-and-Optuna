{
  "nbformat": 4,
  "nbformat_minor": 0,
  "metadata": {
    "colab": {
      "provenance": [],
      "gpuType": "T4"
    },
    "kernelspec": {
      "name": "python3",
      "display_name": "Python 3"
    },
    "language_info": {
      "name": "python"
    },
    "accelerator": "GPU",
    "widgets": {
      "application/vnd.jupyter.widget-state+json": {
        "ad6c458e6ef24f3c945c8c64dd2ddfa0": {
          "model_module": "@jupyter-widgets/controls",
          "model_name": "HBoxModel",
          "model_module_version": "1.5.0",
          "state": {
            "_dom_classes": [],
            "_model_module": "@jupyter-widgets/controls",
            "_model_module_version": "1.5.0",
            "_model_name": "HBoxModel",
            "_view_count": null,
            "_view_module": "@jupyter-widgets/controls",
            "_view_module_version": "1.5.0",
            "_view_name": "HBoxView",
            "box_style": "",
            "children": [
              "IPY_MODEL_76fbda7bc4084393a2789ef2d03026d8",
              "IPY_MODEL_3a346c4a626c4483b24410aefd6770e0",
              "IPY_MODEL_9f5ad55019b0443d8c484188080088cb"
            ],
            "layout": "IPY_MODEL_1a45625256864027b87482cf4ac1e83f"
          }
        },
        "76fbda7bc4084393a2789ef2d03026d8": {
          "model_module": "@jupyter-widgets/controls",
          "model_name": "HTMLModel",
          "model_module_version": "1.5.0",
          "state": {
            "_dom_classes": [],
            "_model_module": "@jupyter-widgets/controls",
            "_model_module_version": "1.5.0",
            "_model_name": "HTMLModel",
            "_view_count": null,
            "_view_module": "@jupyter-widgets/controls",
            "_view_module_version": "1.5.0",
            "_view_name": "HTMLView",
            "description": "",
            "description_tooltip": null,
            "layout": "IPY_MODEL_0fb2b89fff434801933a7e86837f7eff",
            "placeholder": "​",
            "style": "IPY_MODEL_377549c9c244452cb70de7e84b3229d2",
            "value": "Best trial: 0. Best value: 2.83055e-06: 100%"
          }
        },
        "3a346c4a626c4483b24410aefd6770e0": {
          "model_module": "@jupyter-widgets/controls",
          "model_name": "FloatProgressModel",
          "model_module_version": "1.5.0",
          "state": {
            "_dom_classes": [],
            "_model_module": "@jupyter-widgets/controls",
            "_model_module_version": "1.5.0",
            "_model_name": "FloatProgressModel",
            "_view_count": null,
            "_view_module": "@jupyter-widgets/controls",
            "_view_module_version": "1.5.0",
            "_view_name": "ProgressView",
            "bar_style": "success",
            "description": "",
            "description_tooltip": null,
            "layout": "IPY_MODEL_ee7bb38385cb435aa2890c0b72f5299f",
            "max": 1,
            "min": 0,
            "orientation": "horizontal",
            "style": "IPY_MODEL_584f499db1f14646a2587bfc47ced189",
            "value": 1
          }
        },
        "9f5ad55019b0443d8c484188080088cb": {
          "model_module": "@jupyter-widgets/controls",
          "model_name": "HTMLModel",
          "model_module_version": "1.5.0",
          "state": {
            "_dom_classes": [],
            "_model_module": "@jupyter-widgets/controls",
            "_model_module_version": "1.5.0",
            "_model_name": "HTMLModel",
            "_view_count": null,
            "_view_module": "@jupyter-widgets/controls",
            "_view_module_version": "1.5.0",
            "_view_name": "HTMLView",
            "description": "",
            "description_tooltip": null,
            "layout": "IPY_MODEL_72e6312c0c3d4336990b0ec651d02118",
            "placeholder": "​",
            "style": "IPY_MODEL_cd5a43fc1baa457aa89a7ecfffba5568",
            "value": " 1/1 [05:45&lt;00:00, 345.94s/it]"
          }
        },
        "1a45625256864027b87482cf4ac1e83f": {
          "model_module": "@jupyter-widgets/base",
          "model_name": "LayoutModel",
          "model_module_version": "1.2.0",
          "state": {
            "_model_module": "@jupyter-widgets/base",
            "_model_module_version": "1.2.0",
            "_model_name": "LayoutModel",
            "_view_count": null,
            "_view_module": "@jupyter-widgets/base",
            "_view_module_version": "1.2.0",
            "_view_name": "LayoutView",
            "align_content": null,
            "align_items": null,
            "align_self": null,
            "border": null,
            "bottom": null,
            "display": null,
            "flex": null,
            "flex_flow": null,
            "grid_area": null,
            "grid_auto_columns": null,
            "grid_auto_flow": null,
            "grid_auto_rows": null,
            "grid_column": null,
            "grid_gap": null,
            "grid_row": null,
            "grid_template_areas": null,
            "grid_template_columns": null,
            "grid_template_rows": null,
            "height": null,
            "justify_content": null,
            "justify_items": null,
            "left": null,
            "margin": null,
            "max_height": null,
            "max_width": null,
            "min_height": null,
            "min_width": null,
            "object_fit": null,
            "object_position": null,
            "order": null,
            "overflow": null,
            "overflow_x": null,
            "overflow_y": null,
            "padding": null,
            "right": null,
            "top": null,
            "visibility": null,
            "width": null
          }
        },
        "0fb2b89fff434801933a7e86837f7eff": {
          "model_module": "@jupyter-widgets/base",
          "model_name": "LayoutModel",
          "model_module_version": "1.2.0",
          "state": {
            "_model_module": "@jupyter-widgets/base",
            "_model_module_version": "1.2.0",
            "_model_name": "LayoutModel",
            "_view_count": null,
            "_view_module": "@jupyter-widgets/base",
            "_view_module_version": "1.2.0",
            "_view_name": "LayoutView",
            "align_content": null,
            "align_items": null,
            "align_self": null,
            "border": null,
            "bottom": null,
            "display": null,
            "flex": null,
            "flex_flow": null,
            "grid_area": null,
            "grid_auto_columns": null,
            "grid_auto_flow": null,
            "grid_auto_rows": null,
            "grid_column": null,
            "grid_gap": null,
            "grid_row": null,
            "grid_template_areas": null,
            "grid_template_columns": null,
            "grid_template_rows": null,
            "height": null,
            "justify_content": null,
            "justify_items": null,
            "left": null,
            "margin": null,
            "max_height": null,
            "max_width": null,
            "min_height": null,
            "min_width": null,
            "object_fit": null,
            "object_position": null,
            "order": null,
            "overflow": null,
            "overflow_x": null,
            "overflow_y": null,
            "padding": null,
            "right": null,
            "top": null,
            "visibility": null,
            "width": null
          }
        },
        "377549c9c244452cb70de7e84b3229d2": {
          "model_module": "@jupyter-widgets/controls",
          "model_name": "DescriptionStyleModel",
          "model_module_version": "1.5.0",
          "state": {
            "_model_module": "@jupyter-widgets/controls",
            "_model_module_version": "1.5.0",
            "_model_name": "DescriptionStyleModel",
            "_view_count": null,
            "_view_module": "@jupyter-widgets/base",
            "_view_module_version": "1.2.0",
            "_view_name": "StyleView",
            "description_width": ""
          }
        },
        "ee7bb38385cb435aa2890c0b72f5299f": {
          "model_module": "@jupyter-widgets/base",
          "model_name": "LayoutModel",
          "model_module_version": "1.2.0",
          "state": {
            "_model_module": "@jupyter-widgets/base",
            "_model_module_version": "1.2.0",
            "_model_name": "LayoutModel",
            "_view_count": null,
            "_view_module": "@jupyter-widgets/base",
            "_view_module_version": "1.2.0",
            "_view_name": "LayoutView",
            "align_content": null,
            "align_items": null,
            "align_self": null,
            "border": null,
            "bottom": null,
            "display": null,
            "flex": null,
            "flex_flow": null,
            "grid_area": null,
            "grid_auto_columns": null,
            "grid_auto_flow": null,
            "grid_auto_rows": null,
            "grid_column": null,
            "grid_gap": null,
            "grid_row": null,
            "grid_template_areas": null,
            "grid_template_columns": null,
            "grid_template_rows": null,
            "height": null,
            "justify_content": null,
            "justify_items": null,
            "left": null,
            "margin": null,
            "max_height": null,
            "max_width": null,
            "min_height": null,
            "min_width": null,
            "object_fit": null,
            "object_position": null,
            "order": null,
            "overflow": null,
            "overflow_x": null,
            "overflow_y": null,
            "padding": null,
            "right": null,
            "top": null,
            "visibility": null,
            "width": null
          }
        },
        "584f499db1f14646a2587bfc47ced189": {
          "model_module": "@jupyter-widgets/controls",
          "model_name": "ProgressStyleModel",
          "model_module_version": "1.5.0",
          "state": {
            "_model_module": "@jupyter-widgets/controls",
            "_model_module_version": "1.5.0",
            "_model_name": "ProgressStyleModel",
            "_view_count": null,
            "_view_module": "@jupyter-widgets/base",
            "_view_module_version": "1.2.0",
            "_view_name": "StyleView",
            "bar_color": null,
            "description_width": ""
          }
        },
        "72e6312c0c3d4336990b0ec651d02118": {
          "model_module": "@jupyter-widgets/base",
          "model_name": "LayoutModel",
          "model_module_version": "1.2.0",
          "state": {
            "_model_module": "@jupyter-widgets/base",
            "_model_module_version": "1.2.0",
            "_model_name": "LayoutModel",
            "_view_count": null,
            "_view_module": "@jupyter-widgets/base",
            "_view_module_version": "1.2.0",
            "_view_name": "LayoutView",
            "align_content": null,
            "align_items": null,
            "align_self": null,
            "border": null,
            "bottom": null,
            "display": null,
            "flex": null,
            "flex_flow": null,
            "grid_area": null,
            "grid_auto_columns": null,
            "grid_auto_flow": null,
            "grid_auto_rows": null,
            "grid_column": null,
            "grid_gap": null,
            "grid_row": null,
            "grid_template_areas": null,
            "grid_template_columns": null,
            "grid_template_rows": null,
            "height": null,
            "justify_content": null,
            "justify_items": null,
            "left": null,
            "margin": null,
            "max_height": null,
            "max_width": null,
            "min_height": null,
            "min_width": null,
            "object_fit": null,
            "object_position": null,
            "order": null,
            "overflow": null,
            "overflow_x": null,
            "overflow_y": null,
            "padding": null,
            "right": null,
            "top": null,
            "visibility": null,
            "width": null
          }
        },
        "cd5a43fc1baa457aa89a7ecfffba5568": {
          "model_module": "@jupyter-widgets/controls",
          "model_name": "DescriptionStyleModel",
          "model_module_version": "1.5.0",
          "state": {
            "_model_module": "@jupyter-widgets/controls",
            "_model_module_version": "1.5.0",
            "_model_name": "DescriptionStyleModel",
            "_view_count": null,
            "_view_module": "@jupyter-widgets/base",
            "_view_module_version": "1.2.0",
            "_view_name": "StyleView",
            "description_width": ""
          }
        },
        "9679b045314e491eab8f37d9c1003675": {
          "model_module": "@jupyter-widgets/controls",
          "model_name": "HBoxModel",
          "model_module_version": "1.5.0",
          "state": {
            "_dom_classes": [],
            "_model_module": "@jupyter-widgets/controls",
            "_model_module_version": "1.5.0",
            "_model_name": "HBoxModel",
            "_view_count": null,
            "_view_module": "@jupyter-widgets/controls",
            "_view_module_version": "1.5.0",
            "_view_name": "HBoxView",
            "box_style": "",
            "children": [
              "IPY_MODEL_37fe4a9c67db4495926b0112bbb10da0",
              "IPY_MODEL_d39fda34758743ee9372ca0dfdbc98ac",
              "IPY_MODEL_700fb921573d48efa5e3aeffb42b3fe4"
            ],
            "layout": "IPY_MODEL_cf7d8f2c71dc413ea71712b881c32721"
          }
        },
        "37fe4a9c67db4495926b0112bbb10da0": {
          "model_module": "@jupyter-widgets/controls",
          "model_name": "HTMLModel",
          "model_module_version": "1.5.0",
          "state": {
            "_dom_classes": [],
            "_model_module": "@jupyter-widgets/controls",
            "_model_module_version": "1.5.0",
            "_model_name": "HTMLModel",
            "_view_count": null,
            "_view_module": "@jupyter-widgets/controls",
            "_view_module_version": "1.5.0",
            "_view_name": "HTMLView",
            "description": "",
            "description_tooltip": null,
            "layout": "IPY_MODEL_afbb3b8156e7419b808f08becf8c568f",
            "placeholder": "​",
            "style": "IPY_MODEL_7108b22f8fc24df78192d5cbfb4752d4",
            "value": "Best trial: 0. Best value: 3.28081e-06: 100%"
          }
        },
        "d39fda34758743ee9372ca0dfdbc98ac": {
          "model_module": "@jupyter-widgets/controls",
          "model_name": "FloatProgressModel",
          "model_module_version": "1.5.0",
          "state": {
            "_dom_classes": [],
            "_model_module": "@jupyter-widgets/controls",
            "_model_module_version": "1.5.0",
            "_model_name": "FloatProgressModel",
            "_view_count": null,
            "_view_module": "@jupyter-widgets/controls",
            "_view_module_version": "1.5.0",
            "_view_name": "ProgressView",
            "bar_style": "success",
            "description": "",
            "description_tooltip": null,
            "layout": "IPY_MODEL_cac72ffb7af84dd580fcfd2a20cb8df2",
            "max": 5,
            "min": 0,
            "orientation": "horizontal",
            "style": "IPY_MODEL_0a0f6d663dd64a468cb631ebee464117",
            "value": 5
          }
        },
        "700fb921573d48efa5e3aeffb42b3fe4": {
          "model_module": "@jupyter-widgets/controls",
          "model_name": "HTMLModel",
          "model_module_version": "1.5.0",
          "state": {
            "_dom_classes": [],
            "_model_module": "@jupyter-widgets/controls",
            "_model_module_version": "1.5.0",
            "_model_name": "HTMLModel",
            "_view_count": null,
            "_view_module": "@jupyter-widgets/controls",
            "_view_module_version": "1.5.0",
            "_view_name": "HTMLView",
            "description": "",
            "description_tooltip": null,
            "layout": "IPY_MODEL_37fdb79762754c1785d35a4dd5ac05dd",
            "placeholder": "​",
            "style": "IPY_MODEL_f2e2b8bfbe0a48f8b3f6fc90099d127a",
            "value": " 5/5 [30:44&lt;00:00, 447.05s/it]"
          }
        },
        "cf7d8f2c71dc413ea71712b881c32721": {
          "model_module": "@jupyter-widgets/base",
          "model_name": "LayoutModel",
          "model_module_version": "1.2.0",
          "state": {
            "_model_module": "@jupyter-widgets/base",
            "_model_module_version": "1.2.0",
            "_model_name": "LayoutModel",
            "_view_count": null,
            "_view_module": "@jupyter-widgets/base",
            "_view_module_version": "1.2.0",
            "_view_name": "LayoutView",
            "align_content": null,
            "align_items": null,
            "align_self": null,
            "border": null,
            "bottom": null,
            "display": null,
            "flex": null,
            "flex_flow": null,
            "grid_area": null,
            "grid_auto_columns": null,
            "grid_auto_flow": null,
            "grid_auto_rows": null,
            "grid_column": null,
            "grid_gap": null,
            "grid_row": null,
            "grid_template_areas": null,
            "grid_template_columns": null,
            "grid_template_rows": null,
            "height": null,
            "justify_content": null,
            "justify_items": null,
            "left": null,
            "margin": null,
            "max_height": null,
            "max_width": null,
            "min_height": null,
            "min_width": null,
            "object_fit": null,
            "object_position": null,
            "order": null,
            "overflow": null,
            "overflow_x": null,
            "overflow_y": null,
            "padding": null,
            "right": null,
            "top": null,
            "visibility": null,
            "width": null
          }
        },
        "afbb3b8156e7419b808f08becf8c568f": {
          "model_module": "@jupyter-widgets/base",
          "model_name": "LayoutModel",
          "model_module_version": "1.2.0",
          "state": {
            "_model_module": "@jupyter-widgets/base",
            "_model_module_version": "1.2.0",
            "_model_name": "LayoutModel",
            "_view_count": null,
            "_view_module": "@jupyter-widgets/base",
            "_view_module_version": "1.2.0",
            "_view_name": "LayoutView",
            "align_content": null,
            "align_items": null,
            "align_self": null,
            "border": null,
            "bottom": null,
            "display": null,
            "flex": null,
            "flex_flow": null,
            "grid_area": null,
            "grid_auto_columns": null,
            "grid_auto_flow": null,
            "grid_auto_rows": null,
            "grid_column": null,
            "grid_gap": null,
            "grid_row": null,
            "grid_template_areas": null,
            "grid_template_columns": null,
            "grid_template_rows": null,
            "height": null,
            "justify_content": null,
            "justify_items": null,
            "left": null,
            "margin": null,
            "max_height": null,
            "max_width": null,
            "min_height": null,
            "min_width": null,
            "object_fit": null,
            "object_position": null,
            "order": null,
            "overflow": null,
            "overflow_x": null,
            "overflow_y": null,
            "padding": null,
            "right": null,
            "top": null,
            "visibility": null,
            "width": null
          }
        },
        "7108b22f8fc24df78192d5cbfb4752d4": {
          "model_module": "@jupyter-widgets/controls",
          "model_name": "DescriptionStyleModel",
          "model_module_version": "1.5.0",
          "state": {
            "_model_module": "@jupyter-widgets/controls",
            "_model_module_version": "1.5.0",
            "_model_name": "DescriptionStyleModel",
            "_view_count": null,
            "_view_module": "@jupyter-widgets/base",
            "_view_module_version": "1.2.0",
            "_view_name": "StyleView",
            "description_width": ""
          }
        },
        "cac72ffb7af84dd580fcfd2a20cb8df2": {
          "model_module": "@jupyter-widgets/base",
          "model_name": "LayoutModel",
          "model_module_version": "1.2.0",
          "state": {
            "_model_module": "@jupyter-widgets/base",
            "_model_module_version": "1.2.0",
            "_model_name": "LayoutModel",
            "_view_count": null,
            "_view_module": "@jupyter-widgets/base",
            "_view_module_version": "1.2.0",
            "_view_name": "LayoutView",
            "align_content": null,
            "align_items": null,
            "align_self": null,
            "border": null,
            "bottom": null,
            "display": null,
            "flex": null,
            "flex_flow": null,
            "grid_area": null,
            "grid_auto_columns": null,
            "grid_auto_flow": null,
            "grid_auto_rows": null,
            "grid_column": null,
            "grid_gap": null,
            "grid_row": null,
            "grid_template_areas": null,
            "grid_template_columns": null,
            "grid_template_rows": null,
            "height": null,
            "justify_content": null,
            "justify_items": null,
            "left": null,
            "margin": null,
            "max_height": null,
            "max_width": null,
            "min_height": null,
            "min_width": null,
            "object_fit": null,
            "object_position": null,
            "order": null,
            "overflow": null,
            "overflow_x": null,
            "overflow_y": null,
            "padding": null,
            "right": null,
            "top": null,
            "visibility": null,
            "width": null
          }
        },
        "0a0f6d663dd64a468cb631ebee464117": {
          "model_module": "@jupyter-widgets/controls",
          "model_name": "ProgressStyleModel",
          "model_module_version": "1.5.0",
          "state": {
            "_model_module": "@jupyter-widgets/controls",
            "_model_module_version": "1.5.0",
            "_model_name": "ProgressStyleModel",
            "_view_count": null,
            "_view_module": "@jupyter-widgets/base",
            "_view_module_version": "1.2.0",
            "_view_name": "StyleView",
            "bar_color": null,
            "description_width": ""
          }
        },
        "37fdb79762754c1785d35a4dd5ac05dd": {
          "model_module": "@jupyter-widgets/base",
          "model_name": "LayoutModel",
          "model_module_version": "1.2.0",
          "state": {
            "_model_module": "@jupyter-widgets/base",
            "_model_module_version": "1.2.0",
            "_model_name": "LayoutModel",
            "_view_count": null,
            "_view_module": "@jupyter-widgets/base",
            "_view_module_version": "1.2.0",
            "_view_name": "LayoutView",
            "align_content": null,
            "align_items": null,
            "align_self": null,
            "border": null,
            "bottom": null,
            "display": null,
            "flex": null,
            "flex_flow": null,
            "grid_area": null,
            "grid_auto_columns": null,
            "grid_auto_flow": null,
            "grid_auto_rows": null,
            "grid_column": null,
            "grid_gap": null,
            "grid_row": null,
            "grid_template_areas": null,
            "grid_template_columns": null,
            "grid_template_rows": null,
            "height": null,
            "justify_content": null,
            "justify_items": null,
            "left": null,
            "margin": null,
            "max_height": null,
            "max_width": null,
            "min_height": null,
            "min_width": null,
            "object_fit": null,
            "object_position": null,
            "order": null,
            "overflow": null,
            "overflow_x": null,
            "overflow_y": null,
            "padding": null,
            "right": null,
            "top": null,
            "visibility": null,
            "width": null
          }
        },
        "f2e2b8bfbe0a48f8b3f6fc90099d127a": {
          "model_module": "@jupyter-widgets/controls",
          "model_name": "DescriptionStyleModel",
          "model_module_version": "1.5.0",
          "state": {
            "_model_module": "@jupyter-widgets/controls",
            "_model_module_version": "1.5.0",
            "_model_name": "DescriptionStyleModel",
            "_view_count": null,
            "_view_module": "@jupyter-widgets/base",
            "_view_module_version": "1.2.0",
            "_view_name": "StyleView",
            "description_width": ""
          }
        }
      }
    }
  },
  "cells": [
    {
      "cell_type": "code",
      "source": [
        "!pip install optuna"
      ],
      "metadata": {
        "colab": {
          "base_uri": "https://localhost:8080/"
        },
        "id": "9QOVPGYRR2PI",
        "outputId": "a8a6ec19-90dd-4ae3-b25b-0cf0d543ef50"
      },
      "execution_count": null,
      "outputs": [
        {
          "output_type": "stream",
          "name": "stdout",
          "text": [
            "Collecting optuna\n",
            "  Downloading optuna-4.3.0-py3-none-any.whl.metadata (17 kB)\n",
            "Collecting alembic>=1.5.0 (from optuna)\n",
            "  Downloading alembic-1.15.2-py3-none-any.whl.metadata (7.3 kB)\n",
            "Collecting colorlog (from optuna)\n",
            "  Downloading colorlog-6.9.0-py3-none-any.whl.metadata (10 kB)\n",
            "Requirement already satisfied: numpy in /usr/local/lib/python3.11/dist-packages (from optuna) (2.0.2)\n",
            "Requirement already satisfied: packaging>=20.0 in /usr/local/lib/python3.11/dist-packages (from optuna) (24.2)\n",
            "Requirement already satisfied: sqlalchemy>=1.4.2 in /usr/local/lib/python3.11/dist-packages (from optuna) (2.0.40)\n",
            "Requirement already satisfied: tqdm in /usr/local/lib/python3.11/dist-packages (from optuna) (4.67.1)\n",
            "Requirement already satisfied: PyYAML in /usr/local/lib/python3.11/dist-packages (from optuna) (6.0.2)\n",
            "Requirement already satisfied: Mako in /usr/lib/python3/dist-packages (from alembic>=1.5.0->optuna) (1.1.3)\n",
            "Requirement already satisfied: typing-extensions>=4.12 in /usr/local/lib/python3.11/dist-packages (from alembic>=1.5.0->optuna) (4.13.2)\n",
            "Requirement already satisfied: greenlet>=1 in /usr/local/lib/python3.11/dist-packages (from sqlalchemy>=1.4.2->optuna) (3.2.1)\n",
            "Downloading optuna-4.3.0-py3-none-any.whl (386 kB)\n",
            "\u001b[2K   \u001b[90m━━━━━━━━━━━━━━━━━━━━━━━━━━━━━━━━━━━━━━━━\u001b[0m \u001b[32m386.6/386.6 kB\u001b[0m \u001b[31m15.6 MB/s\u001b[0m eta \u001b[36m0:00:00\u001b[0m\n",
            "\u001b[?25hDownloading alembic-1.15.2-py3-none-any.whl (231 kB)\n",
            "\u001b[2K   \u001b[90m━━━━━━━━━━━━━━━━━━━━━━━━━━━━━━━━━━━━━━━━\u001b[0m \u001b[32m231.9/231.9 kB\u001b[0m \u001b[31m18.3 MB/s\u001b[0m eta \u001b[36m0:00:00\u001b[0m\n",
            "\u001b[?25hDownloading colorlog-6.9.0-py3-none-any.whl (11 kB)\n",
            "Installing collected packages: colorlog, alembic, optuna\n",
            "Successfully installed alembic-1.15.2 colorlog-6.9.0 optuna-4.3.0\n"
          ]
        }
      ]
    },
    {
      "cell_type": "code",
      "source": [
        "import pandas as pd\n",
        "import numpy as np\n",
        "import torch\n",
        "import torch.nn as nn\n",
        "from sklearn.preprocessing import MinMaxScaler\n",
        "from sklearn.model_selection import train_test_split\n",
        "import optuna\n",
        "import matplotlib.pyplot as plt\n",
        "\n",
        "# Cargar dataset\n",
        "df = pd.read_csv(\"/content/btcusd_1-min_data.csv\")"
      ],
      "metadata": {
        "id": "YPP6Y8hxSIZN"
      },
      "execution_count": null,
      "outputs": []
    },
    {
      "cell_type": "code",
      "source": [
        "# Preprocesamiento\n",
        "df['Date'] = pd.to_datetime(df['Timestamp'], unit='s')\n",
        "df = df.set_index('Date')[['Close']].copy()\n",
        "df.dropna(inplace=True)\n",
        "\n",
        "# Escalado\n",
        "scaler = MinMaxScaler()\n",
        "scaled_close = scaler.fit_transform(df[['Close']].values).flatten()"
      ],
      "metadata": {
        "id": "2Pkb_JuQSLtb"
      },
      "execution_count": null,
      "outputs": []
    },
    {
      "cell_type": "code",
      "source": [
        "# Función para crear secuencias\n",
        "def create_sequences(data, seq_len):\n",
        "    X, y = [], []\n",
        "    for i in range(len(data) - seq_len):\n",
        "        X.append(data[i:i+seq_len])\n",
        "        y.append(data[i+seq_len])\n",
        "    return np.array(X), np.array(y)"
      ],
      "metadata": {
        "id": "tZTMNtW5SUH4"
      },
      "execution_count": null,
      "outputs": []
    },
    {
      "cell_type": "code",
      "source": [
        "# Modelo LSTM\n",
        "class BitcoinLSTM(nn.Module):\n",
        "    def __init__(self, input_size, hidden_size, num_layers, dropout):\n",
        "        super(BitcoinLSTM, self).__init__()\n",
        "        self.lstm = nn.LSTM(input_size, hidden_size, num_layers,\n",
        "                            dropout=dropout, batch_first=True)\n",
        "        self.fc = nn.Linear(hidden_size, 1)\n",
        "\n",
        "    def forward(self, x):\n",
        "        out, _ = self.lstm(x)\n",
        "        return self.fc(out[:, -1, :])"
      ],
      "metadata": {
        "id": "h1SmO4diSZM1"
      },
      "execution_count": null,
      "outputs": []
    },
    {
      "cell_type": "code",
      "source": [
        "def objective(trial):\n",
        "    import torch\n",
        "    import torch.nn as nn\n",
        "\n",
        "    device = torch.device(\"cuda\" if torch.cuda.is_available() else \"cpu\")\n",
        "    print(f\"🚀 Trial {trial.number} usando dispositivo: {device}\")\n",
        "\n",
        "    try:\n",
        "        # Hiperparámetros sugeridos por Optuna\n",
        "        params = {\n",
        "            'seq_len': trial.suggest_int('seq_len', 10, 50),\n",
        "            'hidden_size': trial.suggest_categorical('hidden_size', [16, 32, 64, 128]),\n",
        "            'num_layers': trial.suggest_int('num_layers', 1, 3),\n",
        "            'dropout': trial.suggest_float('dropout', 0.0, 0.5),\n",
        "            'lr': trial.suggest_float('lr', 1e-4, 1e-2, log=True),\n",
        "            'batch_size': trial.suggest_categorical('batch_size', [32, 64, 128])\n",
        "        }\n",
        "\n",
        "        # Crear secuencias\n",
        "        X, y_seq = create_sequences(scaled_close, params['seq_len'])\n",
        "        print(f\"📊 Trial {trial.number}: {len(X)} secuencias creadas con seq_len={params['seq_len']}\")\n",
        "\n",
        "        if len(X) < 500:\n",
        "            print(f\"⚠️ Trial {trial.number}: muy pocos datos, saltando.\")\n",
        "            return float('inf')\n",
        "\n",
        "        # División temporal\n",
        "        split_idx = int(len(X) * 0.8)\n",
        "        X_train, X_val = X[:split_idx], X[split_idx:]\n",
        "        y_train, y_val = y_seq[:split_idx], y_seq[split_idx:]\n",
        "\n",
        "        # Tensores de entrenamiento\n",
        "        train_dataset = torch.utils.data.TensorDataset(\n",
        "            torch.tensor(X_train, dtype=torch.float32).unsqueeze(-1),\n",
        "            torch.tensor(y_train, dtype=torch.float32).view(-1, 1)\n",
        "        )\n",
        "        train_loader = torch.utils.data.DataLoader(\n",
        "            train_dataset, batch_size=params['batch_size'], shuffle=True)\n",
        "\n",
        "        # Validación por batches también (¡importante!)\n",
        "        val_dataset = torch.utils.data.TensorDataset(\n",
        "            torch.tensor(X_val, dtype=torch.float32).unsqueeze(-1),\n",
        "            torch.tensor(y_val, dtype=torch.float32).view(-1, 1)\n",
        "        )\n",
        "        val_loader = torch.utils.data.DataLoader(\n",
        "            val_dataset, batch_size=params['batch_size'], shuffle=False)\n",
        "\n",
        "        # Modelo\n",
        "        model = BitcoinLSTM(\n",
        "            input_size=1,\n",
        "            hidden_size=params['hidden_size'],\n",
        "            num_layers=params['num_layers'],\n",
        "            dropout=params['dropout']\n",
        "        ).to(device)\n",
        "\n",
        "        optimizer = torch.optim.Adam(model.parameters(), lr=params['lr'])\n",
        "        criterion = nn.MSELoss()\n",
        "\n",
        "        # Entrenamiento\n",
        "        best_val_loss = float('inf')\n",
        "        for epoch in range(20):\n",
        "            model.train()\n",
        "            for X_batch, y_batch in train_loader:\n",
        "                X_batch, y_batch = X_batch.to(device), y_batch.to(device)\n",
        "                optimizer.zero_grad()\n",
        "                outputs = model(X_batch)\n",
        "                loss = criterion(outputs, y_batch)\n",
        "                loss.backward()\n",
        "                optimizer.step()\n",
        "\n",
        "            # Validación por batch (¡esto evita el OOM!)\n",
        "            model.eval()\n",
        "            val_loss_total = 0.0\n",
        "            count = 0\n",
        "            with torch.no_grad():\n",
        "                for X_batch, y_batch in val_loader:\n",
        "                    X_batch, y_batch = X_batch.to(device), y_batch.to(device)\n",
        "                    val_preds = model(X_batch)\n",
        "                    loss = criterion(val_preds, y_batch).item()\n",
        "                    val_loss_total += loss * X_batch.size(0)\n",
        "                    count += X_batch.size(0)\n",
        "            val_loss = val_loss_total / count\n",
        "\n",
        "            # Reporte y poda\n",
        "            trial.report(val_loss, epoch)\n",
        "            if trial.should_prune():\n",
        "                print(f\"🪓 Trial {trial.number} podado en epoch {epoch}\")\n",
        "                raise optuna.exceptions.TrialPruned()\n",
        "\n",
        "            if val_loss < best_val_loss:\n",
        "                best_val_loss = val_loss\n",
        "\n",
        "        print(f\"✅ Trial {trial.number} terminado con val_loss = {best_val_loss:.5f}\")\n",
        "        return best_val_loss\n",
        "\n",
        "    except Exception as e:\n",
        "        print(f\"❌ Error en trial {trial.number}: {e}\")\n",
        "        return float('inf')"
      ],
      "metadata": {
        "id": "MfjAR1uadOgX"
      },
      "execution_count": null,
      "outputs": []
    },
    {
      "cell_type": "code",
      "source": [
        "import optuna\n",
        "optuna.logging.set_verbosity(optuna.logging.DEBUG)"
      ],
      "metadata": {
        "id": "KLFCArY-cVdQ"
      },
      "execution_count": null,
      "outputs": []
    },
    {
      "cell_type": "code",
      "source": [
        "# Optimización con Optuna\n",
        "study = optuna.create_study(direction='minimize')\n",
        "study.optimize(objective, n_trials=1, show_progress_bar=True)\n",
        "\n",
        "print(\"🔍 Mejores hiperparámetros:\")\n",
        "print(study.best_params)"
      ],
      "metadata": {
        "colab": {
          "base_uri": "https://localhost:8080/",
          "height": 225,
          "referenced_widgets": [
            "ad6c458e6ef24f3c945c8c64dd2ddfa0",
            "76fbda7bc4084393a2789ef2d03026d8",
            "3a346c4a626c4483b24410aefd6770e0",
            "9f5ad55019b0443d8c484188080088cb",
            "1a45625256864027b87482cf4ac1e83f",
            "0fb2b89fff434801933a7e86837f7eff",
            "377549c9c244452cb70de7e84b3229d2",
            "ee7bb38385cb435aa2890c0b72f5299f",
            "584f499db1f14646a2587bfc47ced189",
            "72e6312c0c3d4336990b0ec651d02118",
            "cd5a43fc1baa457aa89a7ecfffba5568"
          ]
        },
        "id": "0TJpWKyOSiov",
        "outputId": "d81491d3-a66b-4921-8502-015b92aa357b"
      },
      "execution_count": null,
      "outputs": [
        {
          "output_type": "stream",
          "name": "stderr",
          "text": [
            "[I 2025-05-15 01:03:23,759] A new study created in memory with name: no-name-538371ef-0aea-4f9f-a1ca-5764784a3a9c\n"
          ]
        },
        {
          "output_type": "display_data",
          "data": {
            "text/plain": [
              "  0%|          | 0/1 [00:00<?, ?it/s]"
            ],
            "application/vnd.jupyter.widget-view+json": {
              "version_major": 2,
              "version_minor": 0,
              "model_id": "ad6c458e6ef24f3c945c8c64dd2ddfa0"
            }
          },
          "metadata": {}
        },
        {
          "output_type": "stream",
          "name": "stdout",
          "text": [
            "🚀 Trial 0 usando dispositivo: cuda\n",
            "📊 Trial 0: 498293 secuencias creadas con seq_len=32\n"
          ]
        },
        {
          "output_type": "stream",
          "name": "stderr",
          "text": [
            "/usr/local/lib/python3.11/dist-packages/torch/nn/modules/rnn.py:123: UserWarning: dropout option adds dropout after all but last recurrent layer, so non-zero dropout expects num_layers greater than 1, but got dropout=0.34938034204267737 and num_layers=1\n",
            "  warnings.warn(\n"
          ]
        },
        {
          "output_type": "stream",
          "name": "stdout",
          "text": [
            "✅ Trial 0 terminado con val_loss = 0.00000\n",
            "[I 2025-05-15 01:09:09,699] Trial 0 finished with value: 2.830550627323031e-06 and parameters: {'seq_len': 32, 'hidden_size': 16, 'num_layers': 1, 'dropout': 0.34938034204267737, 'lr': 0.00778646308456622, 'batch_size': 64}. Best is trial 0 with value: 2.830550627323031e-06.\n",
            "🔍 Mejores hiperparámetros:\n",
            "{'seq_len': 32, 'hidden_size': 16, 'num_layers': 1, 'dropout': 0.34938034204267737, 'lr': 0.00778646308456622, 'batch_size': 64}\n"
          ]
        }
      ]
    },
    {
      "cell_type": "code",
      "source": [
        "# Optimización con Optuna\n",
        "study = optuna.create_study(direction='minimize')\n",
        "study.optimize(objective, n_trials=5, show_progress_bar=True)\n",
        "\n",
        "print(\"🔍 Mejores hiperparámetros:\")\n",
        "print(study.best_params)"
      ],
      "metadata": {
        "colab": {
          "base_uri": "https://localhost:8080/",
          "height": 503,
          "referenced_widgets": [
            "9679b045314e491eab8f37d9c1003675",
            "37fe4a9c67db4495926b0112bbb10da0",
            "d39fda34758743ee9372ca0dfdbc98ac",
            "700fb921573d48efa5e3aeffb42b3fe4",
            "cf7d8f2c71dc413ea71712b881c32721",
            "afbb3b8156e7419b808f08becf8c568f",
            "7108b22f8fc24df78192d5cbfb4752d4",
            "cac72ffb7af84dd580fcfd2a20cb8df2",
            "0a0f6d663dd64a468cb631ebee464117",
            "37fdb79762754c1785d35a4dd5ac05dd",
            "f2e2b8bfbe0a48f8b3f6fc90099d127a"
          ]
        },
        "id": "3kgNBhLmgQru",
        "outputId": "ce0e3e4c-fcda-4b30-ff84-dab340112f16"
      },
      "execution_count": null,
      "outputs": [
        {
          "metadata": {
            "tags": null
          },
          "name": "stderr",
          "output_type": "stream",
          "text": [
            "[I 2025-05-15 01:13:44,326] A new study created in memory with name: no-name-6a20b644-6bd8-416b-9755-0cdff24748e3\n"
          ]
        },
        {
          "data": {
            "application/vnd.jupyter.widget-view+json": {
              "model_id": "9679b045314e491eab8f37d9c1003675",
              "version_major": 2,
              "version_minor": 0
            },
            "text/plain": [
              "  0%|          | 0/5 [00:00<?, ?it/s]"
            ]
          },
          "metadata": {},
          "output_type": "display_data"
        },
        {
          "metadata": {
            "tags": null
          },
          "name": "stdout",
          "output_type": "stream",
          "text": [
            "🚀 Trial 0 usando dispositivo: cuda\n",
            "📊 Trial 0: 498296 secuencias creadas con seq_len=29\n"
          ]
        },
        {
          "metadata": {
            "tags": null
          },
          "name": "stderr",
          "output_type": "stream",
          "text": [
            "/usr/local/lib/python3.11/dist-packages/torch/nn/modules/rnn.py:123: UserWarning: dropout option adds dropout after all but last recurrent layer, so non-zero dropout expects num_layers greater than 1, but got dropout=0.12592806791831518 and num_layers=1\n",
            "  warnings.warn(\n"
          ]
        },
        {
          "output_type": "stream",
          "name": "stdout",
          "text": [
            "✅ Trial 0 terminado con val_loss = 0.00000\n",
            "[I 2025-05-15 01:17:14,863] Trial 0 finished with value: 3.2808086162459554e-06 and parameters: {'seq_len': 29, 'hidden_size': 128, 'num_layers': 1, 'dropout': 0.12592806791831518, 'lr': 0.00011195860024489018, 'batch_size': 128}. Best is trial 0 with value: 3.2808086162459554e-06.\n",
            "🚀 Trial 1 usando dispositivo: cuda\n",
            "📊 Trial 1: 498281 secuencias creadas con seq_len=44\n",
            "✅ Trial 1 terminado con val_loss = 0.00001\n",
            "[I 2025-05-15 01:21:38,792] Trial 1 finished with value: 8.23848231934927e-06 and parameters: {'seq_len': 44, 'hidden_size': 64, 'num_layers': 3, 'dropout': 0.3920150155659783, 'lr': 0.0037035080865714036, 'batch_size': 128}. Best is trial 0 with value: 3.2808086162459554e-06.\n",
            "🚀 Trial 2 usando dispositivo: cuda\n",
            "📊 Trial 2: 498283 secuencias creadas con seq_len=42\n",
            "✅ Trial 2 terminado con val_loss = 0.00001\n",
            "[I 2025-05-15 01:28:15,938] Trial 2 finished with value: 1.2829852368874926e-05 and parameters: {'seq_len': 42, 'hidden_size': 16, 'num_layers': 2, 'dropout': 0.18355308230478212, 'lr': 0.0028620168326041954, 'batch_size': 64}. Best is trial 0 with value: 3.2808086162459554e-06.\n",
            "🚀 Trial 3 usando dispositivo: cuda\n",
            "📊 Trial 3: 498297 secuencias creadas con seq_len=28\n",
            "✅ Trial 3 terminado con val_loss = 0.00000\n",
            "[I 2025-05-15 01:32:03,975] Trial 3 finished with value: 4.257698915713529e-06 and parameters: {'seq_len': 28, 'hidden_size': 16, 'num_layers': 2, 'dropout': 0.06795962161157659, 'lr': 0.00036287760967166976, 'batch_size': 128}. Best is trial 0 with value: 3.2808086162459554e-06.\n",
            "🚀 Trial 4 usando dispositivo: cuda\n",
            "📊 Trial 4: 498286 secuencias creadas con seq_len=39\n",
            "✅ Trial 4 terminado con val_loss = 0.00000\n",
            "[I 2025-05-15 01:44:28,388] Trial 4 finished with value: 4.112722014200694e-06 and parameters: {'seq_len': 39, 'hidden_size': 128, 'num_layers': 2, 'dropout': 0.2642448802157903, 'lr': 0.0011559499034777061, 'batch_size': 32}. Best is trial 0 with value: 3.2808086162459554e-06.\n",
            "🔍 Mejores hiperparámetros:\n",
            "{'seq_len': 29, 'hidden_size': 128, 'num_layers': 1, 'dropout': 0.12592806791831518, 'lr': 0.00011195860024489018, 'batch_size': 128}\n"
          ]
        }
      ]
    },
    {
      "cell_type": "code",
      "source": [
        "# Entrenamiento final con mejores parámetros\n",
        "best_params = study.best_params\n",
        "X, y_seq = create_sequences(scaled_close, best_params['seq_len'])\n",
        "split_idx = int(len(X)*0.8)\n",
        "X_train, X_val = X[:split_idx], X[split_idx:]\n",
        "y_train, y_val = y_seq[:split_idx], y_seq[split_idx:]\n",
        "\n",
        "train_loader = torch.utils.data.DataLoader(\n",
        "    torch.utils.data.TensorDataset(\n",
        "        torch.tensor(X_train, dtype=torch.float32).unsqueeze(-1),\n",
        "        torch.tensor(y_train, dtype=torch.float32).view(-1, 1)\n",
        "    ),\n",
        "    batch_size=best_params['batch_size'], shuffle=True\n",
        ")\n",
        "\n",
        "model = BitcoinLSTM(\n",
        "    input_size=1,\n",
        "    hidden_size=best_params['hidden_size'],\n",
        "    num_layers=best_params['num_layers'],\n",
        "    dropout=best_params['dropout']\n",
        ")\n",
        "optimizer = torch.optim.Adam(model.parameters(), lr=best_params['lr'])\n",
        "criterion = nn.MSELoss()"
      ],
      "metadata": {
        "id": "f-NdlrYYo9Ke"
      },
      "execution_count": null,
      "outputs": []
    },
    {
      "cell_type": "code",
      "source": [
        "# Entrenamiento completo\n",
        "for epoch in range(1):\n",
        "    model.train()\n",
        "    for X_batch, y_batch in train_loader:\n",
        "        optimizer.zero_grad()\n",
        "        outputs = model(X_batch)\n",
        "        loss = criterion(outputs, y_batch)\n",
        "        loss.backward()\n",
        "        optimizer.step()"
      ],
      "metadata": {
        "id": "xDzI3BFrpAcX"
      },
      "execution_count": null,
      "outputs": []
    },
    {
      "cell_type": "code",
      "source": [
        "# Evaluación final\n",
        "model.eval()\n",
        "with torch.no_grad():\n",
        "    val_tensor = torch.tensor(X_val, dtype=torch.float32).unsqueeze(-1)\n",
        "    preds = model(val_tensor).numpy()\n",
        "\n",
        "actual = scaler.inverse_transform(y_val.reshape(-1, 1))\n",
        "predicted = scaler.inverse_transform(preds)"
      ],
      "metadata": {
        "id": "5bg4V_03tfbU"
      },
      "execution_count": null,
      "outputs": []
    },
    {
      "cell_type": "code",
      "source": [
        "# Visualización\n",
        "plt.figure(figsize=(12, 5))\n",
        "plt.plot(actual, label='Real')\n",
        "plt.plot(predicted, label='Predicción')\n",
        "plt.legend()\n",
        "plt.title(\"Predicción del precio de Bitcoin (Optuna)\")\n",
        "plt.show()"
      ],
      "metadata": {
        "id": "kI81nAPQR0Kr",
        "colab": {
          "base_uri": "https://localhost:8080/",
          "height": 468
        },
        "outputId": "bae4760f-0b27-4f74-984f-a258955bd18a"
      },
      "execution_count": null,
      "outputs": [
        {
          "output_type": "display_data",
          "data": {
            "text/plain": [
              "<Figure size 1200x500 with 1 Axes>"
            ],
            "image/png": "[encoded data removed]"
          },
          "metadata": {}
        }
      ]
    }
  ]
}